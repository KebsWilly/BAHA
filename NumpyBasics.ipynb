{
  "nbformat": 4,
  "nbformat_minor": 0,
  "metadata": {
    "colab": {
      "name": "NumpyBasics.ipynb",
      "provenance": [],
      "include_colab_link": true
    },
    "kernelspec": {
      "name": "python3",
      "display_name": "Python 3"
    }
  },
  "cells": [
    {
      "cell_type": "markdown",
      "metadata": {
        "id": "view-in-github",
        "colab_type": "text"
      },
      "source": [
        "<a href=\"https://colab.research.google.com/github/KebsWilly/BAHA/blob/master/NumpyBasics.ipynb\" target=\"_parent\"><img src=\"https://colab.research.google.com/assets/colab-badge.svg\" alt=\"Open In Colab\"/></a>"
      ]
    },
    {
      "cell_type": "markdown",
      "metadata": {
        "id": "N3iBqzv0YrSt"
      },
      "source": [
        "Welcome to this numpy tutorial. Numpy stands for Numerical Python. \n",
        "It is a useful tool commonly used to perform most mathematical operations on given datasets. \n",
        "Understanding NumPy is important to anyone who wishes to master data science and/or machine learning and deep learning. \n",
        "This tutorial offers a hands on introduction to NumPy using Python programming language."
      ]
    },
    {
      "cell_type": "code",
      "metadata": {
        "id": "cjFRt8zTYgu0"
      },
      "source": [
        "import numpy as np\n",
        "import sys\n",
        "import matplotlib.pyplot as plt"
      ],
      "execution_count": 1,
      "outputs": []
    },
    {
      "cell_type": "markdown",
      "metadata": {
        "id": "pZhVXuUPa8P1"
      },
      "source": [
        "Arrays: "
      ]
    },
    {
      "cell_type": "code",
      "metadata": {
        "colab": {
          "base_uri": "https://localhost:8080/"
        },
        "id": "-TQdO62RYpnk",
        "outputId": "7c4a3611-a9bf-4646-fd52-1a12ca10d146"
      },
      "source": [
        "a = np.array([1, 2, 4, 5])\n",
        "print(a), print(type(a)), print(a.ndim)"
      ],
      "execution_count": 2,
      "outputs": [
        {
          "output_type": "stream",
          "text": [
            "[1 2 4 5]\n",
            "<class 'numpy.ndarray'>\n",
            "1\n"
          ],
          "name": "stdout"
        },
        {
          "output_type": "execute_result",
          "data": {
            "text/plain": [
              "(None, None, None)"
            ]
          },
          "metadata": {
            "tags": []
          },
          "execution_count": 2
        }
      ]
    },
    {
      "cell_type": "markdown",
      "metadata": {
        "id": "cf0h3Xj3YqRZ"
      },
      "source": [
        "2 Dimensional Array:"
      ]
    },
    {
      "cell_type": "code",
      "metadata": {
        "colab": {
          "base_uri": "https://localhost:8080/"
        },
        "id": "V0LwDnfrbbdB",
        "outputId": "b15e70be-9573-4262-adfd-23f0a221f7c6"
      },
      "source": [
        "b = np.array([[1, 2, 4, 5], [5, 6, 7, 8]])\n",
        "print(b), print(type(b)), print(b.ndim)"
      ],
      "execution_count": 3,
      "outputs": [
        {
          "output_type": "stream",
          "text": [
            "[[1 2 4 5]\n",
            " [5 6 7 8]]\n",
            "<class 'numpy.ndarray'>\n",
            "2\n"
          ],
          "name": "stdout"
        },
        {
          "output_type": "execute_result",
          "data": {
            "text/plain": [
              "(None, None, None)"
            ]
          },
          "metadata": {
            "tags": []
          },
          "execution_count": 3
        }
      ]
    },
    {
      "cell_type": "markdown",
      "metadata": {
        "id": "a_qe50e8c6D3"
      },
      "source": [
        "Working with Arrays:\n",
        "Accessing elements in an array. \n",
        "Note: Array indexing starts from 0"
      ]
    },
    {
      "cell_type": "code",
      "metadata": {
        "colab": {
          "base_uri": "https://localhost:8080/"
        },
        "id": "l-v5_U0ibsJm",
        "outputId": "6b952682-86e4-41da-c141-a2a3d8b0ca25"
      },
      "source": [
        "array2 = np.array([1,2,3,4,5,6,7])\n",
        "#accessing the first element\n",
        "element1 = array2[0]\n",
        "element1"
      ],
      "execution_count": 4,
      "outputs": [
        {
          "output_type": "execute_result",
          "data": {
            "text/plain": [
              "1"
            ]
          },
          "metadata": {
            "tags": []
          },
          "execution_count": 4
        }
      ]
    },
    {
      "cell_type": "code",
      "metadata": {
        "colab": {
          "base_uri": "https://localhost:8080/"
        },
        "id": "3nV4dA-gdSRr",
        "outputId": "878b6cd7-2325-4284-8c73-f79e66d95ad5"
      },
      "source": [
        "#accessing the last array\n",
        "last_element = array2[-1]\n",
        "last_element"
      ],
      "execution_count": null,
      "outputs": [
        {
          "output_type": "execute_result",
          "data": {
            "text/plain": [
              "7"
            ]
          },
          "metadata": {
            "tags": []
          },
          "execution_count": 37
        }
      ]
    },
    {
      "cell_type": "code",
      "metadata": {
        "colab": {
          "base_uri": "https://localhost:8080/"
        },
        "id": "2eTOO30UdadU",
        "outputId": "e1de0d92-fb57-4282-9f8e-b83516f9c816"
      },
      "source": [
        "#For multidimensional arrays, we access elements using their row and column ids\n",
        "array3 = np.array([[1,2,3,4,5,6,7],[8,9,10,11,12,13,14], [15, 16, 17, 18, 19, 20, 21]])\n",
        "first_element_3 = array3[0,0] #row 0 column 0\n",
        "first_element_3"
      ],
      "execution_count": null,
      "outputs": [
        {
          "output_type": "execute_result",
          "data": {
            "text/plain": [
              "1"
            ]
          },
          "metadata": {
            "tags": []
          },
          "execution_count": 38
        }
      ]
    },
    {
      "cell_type": "code",
      "metadata": {
        "colab": {
          "base_uri": "https://localhost:8080/"
        },
        "id": "gR-Nj6wfd9Al",
        "outputId": "c00b2c0a-9e55-4043-f6bb-96c699b22dfa"
      },
      "source": [
        "element_n = array3[2, 6]\n",
        "element_n"
      ],
      "execution_count": null,
      "outputs": [
        {
          "output_type": "execute_result",
          "data": {
            "text/plain": [
              "21"
            ]
          },
          "metadata": {
            "tags": []
          },
          "execution_count": 39
        }
      ]
    },
    {
      "cell_type": "markdown",
      "metadata": {
        "id": "Vlxy8qRKefRq"
      },
      "source": [
        "Creating Arrays with given numbers"
      ]
    },
    {
      "cell_type": "code",
      "metadata": {
        "colab": {
          "base_uri": "https://localhost:8080/"
        },
        "id": "q0kqGGaLePVG",
        "outputId": "abc1ccca-89c4-4fd0-ea7c-dc6d7e243298"
      },
      "source": [
        "#an array of zeros\n",
        "zero_array = np.zeros((2, 4)) #2 by 4 array of zeros\n",
        "zero_array"
      ],
      "execution_count": null,
      "outputs": [
        {
          "output_type": "execute_result",
          "data": {
            "text/plain": [
              "array([[0., 0., 0., 0.],\n",
              "       [0., 0., 0., 0.]])"
            ]
          },
          "metadata": {
            "tags": []
          },
          "execution_count": 40
        }
      ]
    },
    {
      "cell_type": "code",
      "metadata": {
        "colab": {
          "base_uri": "https://localhost:8080/"
        },
        "id": "_Lr1p567e0s0",
        "outputId": "e3ca0111-e7e3-41fa-d460-0b015bb7ee1c"
      },
      "source": [
        "#an array of ones\n",
        "ones_array = np.ones((3, 4)) # 3 by 4 array of ones\n",
        "ones_array"
      ],
      "execution_count": null,
      "outputs": [
        {
          "output_type": "execute_result",
          "data": {
            "text/plain": [
              "array([[1., 1., 1., 1.],\n",
              "       [1., 1., 1., 1.],\n",
              "       [1., 1., 1., 1.]])"
            ]
          },
          "metadata": {
            "tags": []
          },
          "execution_count": 41
        }
      ]
    },
    {
      "cell_type": "code",
      "metadata": {
        "colab": {
          "base_uri": "https://localhost:8080/"
        },
        "id": "aD3ZZDNge_FE",
        "outputId": "0327f176-7d41-4b55-85d9-50d14118326c"
      },
      "source": [
        "#an array of 101's\n",
        "array_101 = np.full((4, 4,), 101)\n",
        "array_101"
      ],
      "execution_count": null,
      "outputs": [
        {
          "output_type": "execute_result",
          "data": {
            "text/plain": [
              "array([[101, 101, 101, 101],\n",
              "       [101, 101, 101, 101],\n",
              "       [101, 101, 101, 101],\n",
              "       [101, 101, 101, 101]])"
            ]
          },
          "metadata": {
            "tags": []
          },
          "execution_count": 42
        }
      ]
    },
    {
      "cell_type": "code",
      "metadata": {
        "colab": {
          "base_uri": "https://localhost:8080/"
        },
        "id": "mhR-DLIJf0Cf",
        "outputId": "1b19745c-1f66-41d1-d4b2-2dfab3f7ac6c"
      },
      "source": [
        "#a random array\n",
        "random_array = np.random.randn(3,3)\n",
        "random_array"
      ],
      "execution_count": null,
      "outputs": [
        {
          "output_type": "execute_result",
          "data": {
            "text/plain": [
              "array([[ 0.64521941,  0.01791989, -0.21122096],\n",
              "       [-0.18975091,  1.29371152, -0.00447193],\n",
              "       [-1.23492149,  1.02520185,  1.41260885]])"
            ]
          },
          "metadata": {
            "tags": []
          },
          "execution_count": 43
        }
      ]
    },
    {
      "cell_type": "markdown",
      "metadata": {
        "id": "B2B3J4fqgHQt"
      },
      "source": [
        "Arrays are the fundamental data types that are used in solving various problems in data science/ML. \n",
        "In most instances, our features are first converted to arrays before any algorithms can be implemented on them.\n",
        "First we present a simple example of how arrays can be used to solve simultaneous equations to show their applicability in linear algebra"
      ]
    },
    {
      "cell_type": "markdown",
      "metadata": {
        "id": "GPooSamDiH6M"
      },
      "source": [
        "Consider the equation: \n",
        "$x+y+z = 6$\n",
        "$2y+5z = -4$\n",
        "$2x+5y-z=27$. \n",
        "This can be translated to a matrix(an array) which is represented by:\n",
        "$A = \\begin{pmatrix}\n",
        "  1 & 1 & 1 \\\\\n",
        "  0& 2& 5 \\\\\n",
        "  2 & 5 & -1\n",
        " \\end{pmatrix}$\n",
        " and the unknowns are given by: \n",
        " $A = \\begin{pmatrix}\n",
        "      6\\\\\n",
        "      -4\\\\\n",
        "      27\n",
        "      \\end{pmatrix}$\n",
        "\n",
        "The solutions to the three equation are also [6, -4, 27]\n",
        "To solve for the unknowns, we have to multiply our matrix with the given solution. \n",
        "From basic algebra, we know that given AB = C, where A is our original matrix,B is the set of unknowns and C is the solution matrix, we can find our unknowns by multiplying C by the inverse of A. \n",
        "Using NumPy, this can be achieved as follows:\n",
        "\n",
        "1.   List item\n",
        "2.   List item\n",
        "\n"
      ]
    },
    {
      "cell_type": "code",
      "metadata": {
        "colab": {
          "base_uri": "https://localhost:8080/"
        },
        "id": "62ZhHnTqf8N9",
        "outputId": "d18880c8-22ae-4483-9f45-12fe134a81a7"
      },
      "source": [
        "A = np.array([[1, 1, 1], [0, 2, 5],[2, 5, -1]])\n",
        "C = np.array([6, -4, 27])\n",
        "#step one: finding the inverse of the matrix A\n",
        "#Using numpy\n",
        "A_inv = np.linalg.inv(A)\n",
        "#step to: solving for the unkowns using the dot product\n",
        "unknowns = A_inv.dot(C)\n",
        "unknowns"
      ],
      "execution_count": null,
      "outputs": [
        {
          "output_type": "execute_result",
          "data": {
            "text/plain": [
              "array([ 5.,  3., -2.])"
            ]
          },
          "metadata": {
            "tags": []
          },
          "execution_count": 44
        }
      ]
    },
    {
      "cell_type": "markdown",
      "metadata": {
        "id": "aozhEHCFkiU2"
      },
      "source": [
        "The example above has provided a high level overview of the different inbuilt functionalities of NumPy. \n",
        "Functionalities such as the linear algebra and inverse are just examples of what is contained in the package. \n",
        "We explore more examples as follows\n"
      ]
    },
    {
      "cell_type": "code",
      "metadata": {
        "colab": {
          "base_uri": "https://localhost:8080/"
        },
        "id": "rZc7b1eikeV8",
        "outputId": "beff8a90-ca35-4bad-827f-3914acc15d20"
      },
      "source": [
        "#Statistics\n",
        "random_numbers = [101, 40, 54050, 320404, 5, 4, 5, 405032, 5677]\n",
        "np.mean(random_numbers), np.std(random_numbers), np.max(random_numbers), np.min(random_numbers)"
      ],
      "execution_count": null,
      "outputs": [
        {
          "output_type": "execute_result",
          "data": {
            "text/plain": [
              "(87257.55555555556, 149494.83748879915, 405032, 4)"
            ]
          },
          "metadata": {
            "tags": []
          },
          "execution_count": 45
        }
      ]
    },
    {
      "cell_type": "code",
      "metadata": {
        "colab": {
          "base_uri": "https://localhost:8080/"
        },
        "id": "zSm4DvjVl6cp",
        "outputId": "20130315-55c7-48e4-8cc9-f503227b679b"
      },
      "source": [
        "#mathematical operations\n",
        "var1 = 50; var2 = 30\n",
        "sum = np.add(var1, var2)\n",
        "diff = np.subtract(var1, var2)\n",
        "prod = np.multiply(var1, var2)\n",
        "sum, diff, prod"
      ],
      "execution_count": null,
      "outputs": [
        {
          "output_type": "execute_result",
          "data": {
            "text/plain": [
              "(80, 20, 1500)"
            ]
          },
          "metadata": {
            "tags": []
          },
          "execution_count": 46
        }
      ]
    },
    {
      "cell_type": "markdown",
      "metadata": {
        "id": "1QluL-XkyYKf"
      },
      "source": [
        "# Practical Example: Using Numpy to Perform Linear Regression"
      ]
    },
    {
      "cell_type": "markdown",
      "metadata": {
        "id": "MU6Mf9C3ykaN"
      },
      "source": [
        "\n",
        "\n",
        "\n",
        "> Overview of Linear Regression.\n",
        "\n",
        "\n",
        " Linear regression is a statistical approach used to find the relationship between a dependent variable and independent variable(s). The approach assumes that a linear relationship exists between given set of variables. The relationship can be summarized using the formula: \n",
        "$y = wX+b$ \n",
        "where y is the dependent variable, X is the independent variable, w is the weights of the model and b is the bias in the model. \n",
        "\n",
        "\n",
        "> \n",
        "\n",
        "\n",
        "Linear regression is among the many machine learning algorithms used for regression problems. \n",
        "We are now going to implement a linear regression model using only numpy and custom built python functions. "
      ]
    },
    {
      "cell_type": "code",
      "metadata": {
        "id": "cf5ZapsAsZ12"
      },
      "source": [
        "class LinearRegression():\n",
        "  def __init__(self, lr=0.001, n_iterations = 1000):\n",
        "    self.lr = lr\n",
        "    self.n_iters = n_iterations\n",
        "    self.weights = None\n",
        "    self.bias = None\n",
        "\n",
        "  def fit(self, X, y):\n",
        "    n_samples, n_features = X.shape\n",
        "    self.weights = np.zeros(n_features)\n",
        "    self.bias = 0\n",
        "\n",
        "    for _ in range(self.n_iters):\n",
        "      y_hat = np.dot(X, self.weights) + self.bias\n",
        "      #calculating the derivatives (a.k.a Gradient descent)\n",
        "      dw = (1/n_samples) * np.dot(X.T, (y_hat-y)) #multiplying by the transpose of x to find derivative of the weight\n",
        "      db = (1/n_samples) * np.sum(y_hat-y) #derivative of the bias\n",
        "\n",
        "      self.weights -= self.lr*dw\n",
        "      self.bias -= self.lr*db\n",
        "\n",
        "  def predict(self, X):\n",
        "    y_hat = np.dot(X, self.weights) + self.bias\n",
        "    return y_hat\n",
        "\n",
        "\n",
        "\n"
      ],
      "execution_count": null,
      "outputs": []
    },
    {
      "cell_type": "code",
      "metadata": {
        "id": "0ixyUSEX8Zbo"
      },
      "source": [
        "#function to help compute the error of the model\n",
        "def mse(y_true, y_predicted):\n",
        "   return  np.mean((y_true-y_predicted)**2)"
      ],
      "execution_count": null,
      "outputs": []
    },
    {
      "cell_type": "code",
      "metadata": {
        "id": "Q5Z5dZiTvdxB"
      },
      "source": [
        "from sklearn.model_selection import train_test_split\n",
        "from sklearn import datasets\n",
        "X, y = datasets.make_regression(n_samples=1000, n_features=1, noise=20, random_state=42)\n",
        "X_train,X_test, y_train, y_test = train_test_split(X, y, test_size=0.3, random_state=42)"
      ],
      "execution_count": null,
      "outputs": []
    },
    {
      "cell_type": "code",
      "metadata": {
        "colab": {
          "base_uri": "https://localhost:8080/"
        },
        "id": "az-q45sM529T",
        "outputId": "29ee4fce-3597-4d34-c85d-fe066b60f064"
      },
      "source": [
        "model = LinearRegression()\n",
        "model.fit(X_train, y_train)\n",
        "predictions = model.predict(X_test)\n",
        "error = mse(y_test, predictions)\n",
        "error"
      ],
      "execution_count": null,
      "outputs": [
        {
          "output_type": "execute_result",
          "data": {
            "text/plain": [
              "445.160788488899"
            ]
          },
          "metadata": {
            "tags": []
          },
          "execution_count": 71
        }
      ]
    },
    {
      "cell_type": "code",
      "metadata": {
        "id": "1bE_v_WV6MQx"
      },
      "source": [
        ""
      ],
      "execution_count": null,
      "outputs": []
    }
  ]
}